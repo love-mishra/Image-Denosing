{
 "cells": [
  {
   "cell_type": "markdown",
   "id": "fa0739c8",
   "metadata": {},
   "source": [
    "## Import Library"
   ]
  },
  {
   "cell_type": "code",
   "execution_count": null,
   "id": "ee46cf43",
   "metadata": {},
   "outputs": [],
   "source": [
    "import numpy as np\n",
    "import pandas as pd \n",
    "import matplotlib.pyplot as plt\n",
    "from PIL import Image\n",
    "import os\n",
    "from tensorflow.keras.models import Sequential\n",
    "from tensorflow.keras.models import Model\n",
    "from tensorflow.keras.layers import Input, Conv2D, BatchNormalization, MaxPooling2D, UpSampling2D, Dropout, Concatenate\n",
    "from sklearn.model_selection import train_test_split\n",
    "from tensorflow.keras.callbacks import EarlyStopping\n",
    "import glob\n",
    "from skimage.metrics import peak_signal_noise_ratio as psnr"
   ]
  },
  {
   "cell_type": "code",
   "execution_count": null,
   "id": "361344b5",
   "metadata": {},
   "outputs": [],
   "source": [
    "working_dir = \"/Users/pushpendrammishra/Desktop/Denoising\"\n",
    "noisy_train_path = working_dir + \"/Train/low\"\n",
    "clean_train_path = working_dir + \"/Train/high\"\n",
    "noisy_test_path = working_dir + \"/test/low\"\n",
    "predicted_dir = working_dir + '/test/predicted/'\n"
   ]
  },
  {
   "cell_type": "markdown",
   "id": "077518ee",
   "metadata": {},
   "source": [
    "## Get a sorted list of images from the subdirectory specified"
   ]
  },
  {
   "cell_type": "code",
   "execution_count": null,
   "id": "e6b1bfa7",
   "metadata": {},
   "outputs": [],
   "source": [
    "# Ensure predicted directory exists\n",
    "os.makedirs(predicted_dir, exist_ok=True)\n",
    "\n",
    "noisy_train_image = sorted(glob.glob(os.path.join(noisy_train_path, '*')))\n",
    "clean_train_image = sorted(glob.glob(os.path.join(clean_train_path, '*')))\n"
   ]
  },
  {
   "cell_type": "code",
   "execution_count": null,
   "id": "73020fbc",
   "metadata": {},
   "outputs": [],
   "source": [
    "noisy_test_image = sorted(glob.glob(os.path.join(noisy_test_path, '*')))"
   ]
  },
  {
   "cell_type": "code",
   "execution_count": null,
   "id": "d6c68a1e",
   "metadata": {},
   "outputs": [],
   "source": [
    "noisy_train_image[:7]"
   ]
  },
  {
   "cell_type": "code",
   "execution_count": null,
   "id": "3d4438b6",
   "metadata": {},
   "outputs": [],
   "source": [
    "len(noisy_train_image)"
   ]
  },
  {
   "cell_type": "code",
   "execution_count": null,
   "id": "55599b51",
   "metadata": {},
   "outputs": [],
   "source": [
    "clean_train_image[:7]"
   ]
  },
  {
   "cell_type": "code",
   "execution_count": null,
   "id": "8d11ae29",
   "metadata": {},
   "outputs": [],
   "source": [
    "len(clean_train_image)"
   ]
  },
  {
   "cell_type": "markdown",
   "id": "a66028a0",
   "metadata": {},
   "source": [
    "## Preprocessing"
   ]
  },
  {
   "cell_type": "code",
   "execution_count": null,
   "id": "8196e7b1",
   "metadata": {},
   "outputs": [],
   "source": [
    "img=Image.open(os.path.join(noisy_train_path+'/100.png'))\n",
    "img.size"
   ]
  },
  {
   "cell_type": "code",
   "execution_count": null,
   "id": "bade81a4",
   "metadata": {},
   "outputs": [],
   "source": [
    "def image_preprocessing(path):\n",
    "    img = Image.open(path)\n",
    "    img = img.resize((600, 400))\n",
    "    img = img.convert(\"L\")\n",
    "    img = np.asarray(img, dtype=\"float32\") / 255.0\n",
    "    img = np.reshape(img, (400, 600, 1))\n",
    "    return img"
   ]
  },
  {
   "cell_type": "code",
   "execution_count": null,
   "id": "6a166c4e",
   "metadata": {},
   "outputs": [],
   "source": [
    "noised_train = [image_preprocessing(f) for f in noisy_train_image]\n",
    "cleaned_train = [image_preprocessing(f) for f in clean_train_image]"
   ]
  },
  {
   "cell_type": "markdown",
   "id": "a4d11fd4",
   "metadata": {},
   "source": [
    " ## Noised train image Vs Denoised train image"
   ]
  },
  {
   "cell_type": "code",
   "execution_count": null,
   "id": "a5751a0b",
   "metadata": {},
   "outputs": [],
   "source": [
    "# Plot some training images\n",
    "plt.figure(figsize=(10, 20))\n",
    "for i in range(0, 4, 2):\n",
    "    plt.subplot(4, 2, i + 1)\n",
    "    plt.xticks([])\n",
    "    plt.yticks([])\n",
    "    plt.imshow(noised_train[i][:, :, 0], cmap='gray')\n",
    "    plt.title('Image with Noise:')\n",
    "    \n",
    "    plt.subplot(4, 2, i + 2)\n",
    "    plt.xticks([])\n",
    "    plt.yticks([])\n",
    "    plt.imshow(cleaned_train[i][:, :, 0], cmap='gray')\n",
    "    plt.title('Denoised image:')\n",
    "\n",
    "plt.show()"
   ]
  },
  {
   "cell_type": "markdown",
   "id": "f01be13d",
   "metadata": {},
   "source": [
    "## Split Dataset"
   ]
  },
  {
   "cell_type": "code",
   "execution_count": null,
   "id": "1385b4bc",
   "metadata": {},
   "outputs": [],
   "source": [
    "x_train = np.asarray(noised_train)\n",
    "y_train = np.asarray(cleaned_train)\n",
    "\n",
    "x_train, x_val, y_train, y_val = train_test_split(x_train, y_train, test_size=0.20)"
   ]
  },
  {
   "cell_type": "code",
   "execution_count": null,
   "id": "95dd5183",
   "metadata": {},
   "outputs": [],
   "source": [
    "x_train.shape"
   ]
  },
  {
   "cell_type": "markdown",
   "id": "8bcafe67",
   "metadata": {},
   "source": [
    "## Model building"
   ]
  },
  {
   "cell_type": "code",
   "execution_count": null,
   "id": "e32b3239",
   "metadata": {},
   "outputs": [],
   "source": [
    "def autoencoder():\n",
    "    # Input layer\n",
    "    model = Sequential()\n",
    "    model.add(Conv2D(32, (3, 3), activation='relu', padding='same', input_shape=(400, 600, 1,))) \n",
    "    model.add(MaxPooling2D((2, 2), padding='same'))\n",
    "    model.add(Conv2D(32, (3, 3), activation='relu', padding='same'))\n",
    "    model.add(MaxPooling2D((2, 2), padding='same'))\n",
    "    model.add(Conv2D(32, (3, 3), activation='relu', padding='same'))\n",
    "    model.add(UpSampling2D((2, 2)))\n",
    "    model.add(Conv2D(32, (3, 3), activation='relu', padding='same'))\n",
    "    model.add(UpSampling2D((2, 2)))\n",
    "    model.add(Conv2D(1, (3, 3), activation='sigmoid', padding='same'))\n",
    "    return model"
   ]
  },
  {
   "cell_type": "code",
   "execution_count": null,
   "id": "d01cb3e3",
   "metadata": {},
   "outputs": [],
   "source": [
    "model = autoencoder()\n",
    "model.summary()"
   ]
  },
  {
   "cell_type": "code",
   "execution_count": null,
   "id": "98e2105b",
   "metadata": {},
   "outputs": [],
   "source": [
    "# Compile the model\n",
    "model.compile(optimizer='adadelta', loss='binary_crossentropy', metrics=[\"accuracy\"])\n",
    " \n",
    "callback = EarlyStopping(monitor='val_loss', patience=3)\n",
    " \n",
    "model.fit(x_train, y_train, epochs=300, batch_size=53, validation_data=(x_val, y_val),callbacks=[callback] )\n",
    " \n"
   ]
  },
  {
   "cell_type": "code",
   "execution_count": null,
   "id": "f138f943",
   "metadata": {},
   "outputs": [],
   "source": [
    "model.save(working_dir+'/model.h5')"
   ]
  },
  {
   "cell_type": "markdown",
   "id": "4c5236ef",
   "metadata": {},
   "source": [
    "## Prediction"
   ]
  },
  {
   "cell_type": "code",
   "execution_count": null,
   "id": "ffaddb5e",
   "metadata": {},
   "outputs": [],
   "source": [
    "# Load and preprocess test images\n",
    "noised_test = [image_preprocessing(f) for f in noisy_test_image]\n",
    "x_test = np.asarray(noised_test)"
   ]
  },
  {
   "cell_type": "code",
   "execution_count": null,
   "id": "3131ab43",
   "metadata": {},
   "outputs": [],
   "source": [
    "# Predict denoised images\n",
    "pred = model.predict(x_test, batch_size=16)"
   ]
  },
  {
   "cell_type": "code",
   "execution_count": null,
   "id": "76751bfb",
   "metadata": {},
   "outputs": [],
   "source": [
    "denoised_test_image=sorted(glob.glob(os.path.join(working_dir+'/test/Ground_truth', '*')))\n",
    "denoised_test=[image_preprocessing(f) for f in denoised_test_image]\n",
    "denoised_test=np.asarray(denoised_test)"
   ]
  },
  {
   "cell_type": "code",
   "execution_count": null,
   "id": "ec9e3310",
   "metadata": {},
   "outputs": [],
   "source": [
    "psnr_values = []\n",
    "# Ensure predicted directory exists\n",
    "os.makedirs(predicted_dir, exist_ok=True)\n",
    "for i in range(len(x_test)):\n",
    "    original = np.clip(denoised_test[i] * 255.0, 0, 255)  # Clip values to [0, 255]\n",
    "    denoised = np.clip(pred[i] * 255.0, 0, 255)   # Clip values to [0, 255]\n",
    "    \n",
    "    psnr_value = psnr(original, denoised, data_range=255)  # Specify data_range\n",
    "    psnr_values.append(psnr_value)\n",
    "    \n",
    "#     print(f'PSNR for image {noisy_test_image[i]}: {psnr_value:.2f} dB')\n",
    "    \n",
    "    denoised_img = Image.fromarray(denoised.squeeze().astype(np.uint8))\n",
    "    denoised_img.save(os.path.join(predicted_dir, os.path.basename(noisy_test_image[i])))"
   ]
  },
  {
   "cell_type": "code",
   "execution_count": null,
   "id": "e7b94387",
   "metadata": {},
   "outputs": [],
   "source": [
    "mean_psnr = np.mean(psnr_values)\n",
    "print(f\"Mean PSNR: {mean_psnr:.2f}\")"
   ]
  },
  {
   "cell_type": "code",
   "execution_count": null,
   "id": "c4005149",
   "metadata": {},
   "outputs": [],
   "source": [
    "# Plot some examples with their PSNR values\n",
    "plt.figure(figsize=(15, 25))\n",
    "for i in range(0, 8, 2):\n",
    "    if i >= len(x_test):\n",
    "        break\n",
    "    plt.subplot(4, 2, i + 1)\n",
    "    plt.xticks([])\n",
    "    plt.yticks([])\n",
    "    plt.imshow(x_test[i][:, :, 0], cmap='gray')\n",
    "    plt.title('Test Image with Noise')\n",
    "    \n",
    "    plt.subplot(4, 2, i + 2)\n",
    "    plt.xticks([])\n",
    "    plt.yticks([])\n",
    "    plt.imshow(pred[i][:, :, 0], cmap='gray')\n",
    "    plt.title(f'Denoised by Autoencoder - PSNR: {psnr_values[i]:.2f} dB')\n",
    "\n",
    "plt.show()\n"
   ]
  },
  {
   "cell_type": "code",
   "execution_count": null,
   "id": "8a6b29e9",
   "metadata": {},
   "outputs": [],
   "source": []
  }
 ],
 "metadata": {
  "kernelspec": {
   "display_name": "Python 3 (ipykernel)",
   "language": "python",
   "name": "python3"
  },
  "language_info": {
   "codemirror_mode": {
    "name": "ipython",
    "version": 3
   },
   "file_extension": ".py",
   "mimetype": "text/x-python",
   "name": "python",
   "nbconvert_exporter": "python",
   "pygments_lexer": "ipython3",
   "version": "3.11.5"
  }
 },
 "nbformat": 4,
 "nbformat_minor": 5
}
